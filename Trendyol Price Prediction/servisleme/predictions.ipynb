{
 "cells": [
  {
   "cell_type": "code",
   "execution_count": 1,
   "id": "31c78337",
   "metadata": {},
   "outputs": [],
   "source": [
    "import pandas as pd\n",
    "import numpy as np\n",
    "import joblib"
   ]
  },
  {
   "cell_type": "code",
   "execution_count": 2,
   "id": "f0aa336a",
   "metadata": {},
   "outputs": [],
   "source": [
    "rf_model = joblib.load(\"model.pkl\")"
   ]
  },
  {
   "cell_type": "code",
   "execution_count": 3,
   "id": "6d1f3774",
   "metadata": {},
   "outputs": [],
   "source": [
    "# Load datasets\n",
    "m = pd.read_csv(\"Marka.csv\")\n",
    "marka = pd.DataFrame(m)\n",
    "\n",
    "e = pd.read_csv(\"Ekran Kartı.csv\")\n",
    "ekran = pd.DataFrame(e)\n",
    "\n",
    "i_s = pd.read_csv(\"İşletim Sistemi.csv\")\n",
    "i_sis = pd.DataFrame(i_s)\n",
    "\n",
    "i_t = pd.read_csv(\"İşlemci Tipi.csv\")\n",
    "i_tip = pd.DataFrame(i_t)\n",
    "\n",
    "c = pd.read_csv(\"Çözünürlük.csv\")\n",
    "cöz = pd.DataFrame(c)"
   ]
  },
  {
   "cell_type": "code",
   "execution_count": 4,
   "id": "668ac8d7",
   "metadata": {},
   "outputs": [],
   "source": [
    "# Functions to find indices in the dataframes\n",
    "def marka_index(marka, aranan_marka):\n",
    "    index = marka[marka[\"Marka\"] == aranan_marka].index\n",
    "    return index[0] + 2\n",
    "\n",
    "def ekran_index(ekran, aranan_ekran):\n",
    "    index = ekran[ekran[\"Ekran Kartı\"] == aranan_ekran].index\n",
    "    return index[0] + 2\n",
    "\n",
    "def işletim_index(i_sis, aranan_işletim):\n",
    "    index = i_sis[i_sis[\"İşletim Sistemi\"] == aranan_işletim].index\n",
    "    return index[0] + 2\n",
    "\n",
    "def işlemci_index(i_tip, aranan_işlemci):\n",
    "    index = i_tip[i_tip[\"İşlemci Tipi\"] == aranan_işlemci].index\n",
    "    return index[0] + 2\n",
    "\n",
    "def çözünürlük_index(cöz, aranan_çözünürlük):\n",
    "    index = cöz[cöz[\"Çözünürlük\"] == aranan_çözünürlük].index\n",
    "    return index[0] + 2\n",
    "\n",
    "# Function to create a prediction input\n",
    "def create_prediction_value(ekran_boyutu, ekran_kartı, ram, ssd_kapasitesi, çözünürlük, işlemci_tipi, işletim_sistemi, marka):\n",
    "    res = pd.DataFrame(data={\n",
    "         'Ekran_Boyutu': [ekran_boyutu],\n",
    "         'Ekran_Kartı': [ekran_kartı],\n",
    "         'Ram': [ram], \n",
    "         'SSD_Kapasitesi': [ssd_kapasitesi],\n",
    "         'Çözünürlük': [çözünürlük], \n",
    "         'İşlemci_Tipi': [işlemci_tipi],\n",
    "         'İşletim_Sistemi': [işletim_sistemi],\n",
    "         'Marka': [marka],\n",
    "    })\n",
    "    return res"
   ]
  },
  {
   "cell_type": "code",
   "execution_count": 5,
   "id": "9501da66",
   "metadata": {},
   "outputs": [],
   "source": [
    "# Function to predict using the Random Forest model\n",
    "def predict_models(res):\n",
    "    prediction = rf_model.predict(res)\n",
    "    print(\"Random Forest Result: {:.2f} TL\".format(float(prediction)))"
   ]
  },
  {
   "cell_type": "code",
   "execution_count": 6,
   "id": "649ee984",
   "metadata": {},
   "outputs": [],
   "source": [
    "# Create a prediction input\n",
    "predict_value = create_prediction_value(\n",
    "    17,\n",
    "    ekran_index(ekran, \"AMDRadeonVega8\"),\n",
    "    16,\n",
    "    256,\n",
    "    çözünürlük_index(cöz, \"3200x2000\"),\n",
    "    işlemci_index(i_tip, \"IntelCeleron\"),\n",
    "    işletim_index(i_sis, \"ChromeOS\"),\n",
    "    marka_index(marka, \"Apple\")\n",
    ")"
   ]
  },
  {
   "cell_type": "code",
   "execution_count": 7,
   "id": "e6278c49",
   "metadata": {},
   "outputs": [
    {
     "name": "stdout",
     "output_type": "stream",
     "text": [
      "Random Forest Result: 29409.94 TL\n"
     ]
    }
   ],
   "source": [
    "# Predict using the Random Forest model\n",
    "predict_models(predict_value)"
   ]
  },
  {
   "cell_type": "code",
   "execution_count": null,
   "id": "3c1b135a",
   "metadata": {},
   "outputs": [],
   "source": []
  },
  {
   "cell_type": "code",
   "execution_count": null,
   "id": "45bb2e23",
   "metadata": {},
   "outputs": [],
   "source": []
  },
  {
   "cell_type": "code",
   "execution_count": null,
   "id": "8c9bc116",
   "metadata": {},
   "outputs": [],
   "source": []
  },
  {
   "cell_type": "code",
   "execution_count": null,
   "id": "403fb465",
   "metadata": {},
   "outputs": [],
   "source": []
  },
  {
   "cell_type": "code",
   "execution_count": null,
   "id": "578a6065",
   "metadata": {},
   "outputs": [],
   "source": [
    "\n"
   ]
  },
  {
   "cell_type": "code",
   "execution_count": null,
   "id": "9681fc5d",
   "metadata": {},
   "outputs": [],
   "source": []
  },
  {
   "cell_type": "code",
   "execution_count": null,
   "id": "132b747a",
   "metadata": {},
   "outputs": [],
   "source": []
  },
  {
   "cell_type": "code",
   "execution_count": null,
   "id": "7f8e1711",
   "metadata": {},
   "outputs": [],
   "source": []
  },
  {
   "cell_type": "code",
   "execution_count": null,
   "id": "5f0330e1",
   "metadata": {},
   "outputs": [],
   "source": []
  },
  {
   "cell_type": "code",
   "execution_count": null,
   "id": "477d9d9a",
   "metadata": {},
   "outputs": [],
   "source": []
  },
  {
   "cell_type": "code",
   "execution_count": null,
   "id": "4345b951",
   "metadata": {},
   "outputs": [],
   "source": []
  }
 ],
 "metadata": {
  "kernelspec": {
   "display_name": "Python 3 (ipykernel)",
   "language": "python",
   "name": "python3"
  },
  "language_info": {
   "codemirror_mode": {
    "name": "ipython",
    "version": 3
   },
   "file_extension": ".py",
   "mimetype": "text/x-python",
   "name": "python",
   "nbconvert_exporter": "python",
   "pygments_lexer": "ipython3",
   "version": "3.11.4"
  }
 },
 "nbformat": 4,
 "nbformat_minor": 5
}
